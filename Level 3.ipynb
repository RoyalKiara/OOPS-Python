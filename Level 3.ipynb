{
 "cells": [
  {
   "cell_type": "code",
   "execution_count": 23,
   "metadata": {},
   "outputs": [],
   "source": [
    "class Taxis():\n",
    "    points = ['A','B','C','D','E','F']\n",
    "    def __init__(self,carId):\n",
    "        # int\n",
    "        self.carId = carId\n",
    "        self.custId = 0\n",
    "        self.pickupTime = 0\n",
    "        self.totCost = 0\n",
    "        self.dist = 0\n",
    "        # str\n",
    "        self.pickupPoint = ''\n",
    "        self.dropPoint = ''\n"
   ]
  },
  {
   "cell_type": "code",
   "execution_count": 24,
   "metadata": {},
   "outputs": [
    {
     "name": "stdout",
     "output_type": "stream",
     "text": [
      "[<__main__.Taxis object at 0x0000024A5C650848>, <__main__.Taxis object at 0x0000024A5C5C3808>, <__main__.Taxis object at 0x0000024A5C5C3C88>]\n"
     ]
    }
   ],
   "source": [
    "n=3\n",
    "taxi = []\n",
    "x = 1\n",
    "for i in range(0,3):\n",
    "    taxi.append(Taxis(x))\n",
    "    x += 1\n",
    "print(taxi)\n"
   ]
  },
  {
   "cell_type": "code",
   "execution_count": 27,
   "metadata": {},
   "outputs": [
    {
     "data": {
      "text/plain": [
       "1"
      ]
     },
     "execution_count": 27,
     "metadata": {},
     "output_type": "execute_result"
    }
   ],
   "source": [
    "taxi[0].carId"
   ]
  },
  {
   "cell_type": "code",
   "execution_count": 28,
   "metadata": {},
   "outputs": [
    {
     "name": "stdout",
     "output_type": "stream",
     "text": [
      "['A', 'B', 'C', 'D', 'E', 'F']\n"
     ]
    }
   ],
   "source": [
    "print(Taxis.points)"
   ]
  },
  {
   "cell_type": "code",
   "execution_count": null,
   "metadata": {},
   "outputs": [],
   "source": []
  }
 ],
 "metadata": {
  "kernelspec": {
   "display_name": "Python 3",
   "language": "python",
   "name": "python3"
  },
  "language_info": {
   "codemirror_mode": {
    "name": "ipython",
    "version": 3
   },
   "file_extension": ".py",
   "mimetype": "text/x-python",
   "name": "python",
   "nbconvert_exporter": "python",
   "pygments_lexer": "ipython3",
   "version": "3.7.6"
  }
 },
 "nbformat": 4,
 "nbformat_minor": 4
}
