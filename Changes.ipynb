{
 "cells": [
  {
   "cell_type": "code",
   "execution_count": 1,
   "metadata": {},
   "outputs": [],
   "source": [
    "#Streaming Service\n",
    "class StreamingService():\n",
    "    def __init__(self,name,unit_price,unit_hrs):\n",
    "        self.name = name\n",
    "        self.unit_price = unit_price\n",
    "        self.unit_hrs = unit_hrs\n",
    "    def __str__(self):\n",
    "        return \"I am {}.Price : {} . Unit in hours : {}\".format(self.name,self.unit_price,self.unit_hrs)\n",
    "class Objects(StreamingService):\n",
    "    def __init__(self,name,unit_price,unit_hrs):\n",
    "        StreamingService.__init__(self,name,unit_price,unit_hrs)\n",
    "        self.view_hrs = 0\n",
    "        \n",
    "    def check(self,view_hrs):\n",
    "        self.view_hrs = view_hrs\n",
    "        if(self.view_hrs % self.unit_hrs == 0):\n",
    "            return True\n",
    "        else:\n",
    "            return False\n"
   ]
  },
  {
   "cell_type": "code",
   "execution_count": 2,
   "metadata": {},
   "outputs": [],
   "source": [
    "# main\n",
    "netflix = Objects(\"Netflix\",10,10)\n",
    "amazon_prime = Objects(\"Amazon Prime\",2,5)\n",
    "hotstar = Objects(\"Hotstar\",1,5)\n",
    "\n",
    "mylist = [netflix,amazon_prime,hotstar]"
   ]
  },
  {
   "cell_type": "code",
   "execution_count": 3,
   "metadata": {},
   "outputs": [
    {
     "name": "stdout",
     "output_type": "stream",
     "text": [
      "Viewing hours for Netfix:0\n",
      "Viewing hours for Amazon Prime:0\n",
      "Viewing hours for Hotstar:10\n"
     ]
    }
   ],
   "source": [
    "#import sys\n",
    "n = int(input(\"Viewing hours for Netfix:\"))\n",
    "if (netflix.check(n) == False):\n",
    "    print(\"{} allows viewing hours in units of {} only\".format(netflix.name,netflix.unit_hrs))\n",
    "    quit()\n",
    "    \n",
    "a = int(input(\"Viewing hours for Amazon Prime:\"))\n",
    "if (amazon_prime.check(a) == False):\n",
    "    print(\"{} allows viewing hours in units of {} only\".format(amazon_prime.name,amazon_prime.unit_hrs))\n",
    "    quit()\n",
    "    \n",
    "h = int(input(\"Viewing hours for Hotstar:\"))\n",
    "if (hotstar.check(h) == False):\n",
    "    print(\"{} allows viewing hours in units of {} only\".format(hotstar.name,hotstar.unit_hrs))\n",
    "    quit()"
   ]
  },
  {
   "cell_type": "code",
   "execution_count": null,
   "metadata": {},
   "outputs": [],
   "source": [
    "total = 0\n",
    "for obj in mylist:\n",
    "    units = obj.view_hrs / obj.unit_hrs\n",
    "    total += (units * obj.unit_price)\n",
    "print(\"Total amount should be paid: Rs.{}\".format(total))"
   ]
  },
  {
   "cell_type": "code",
   "execution_count": null,
   "metadata": {},
   "outputs": [],
   "source": []
  }
 ],
 "metadata": {
  "kernelspec": {
   "display_name": "Python 3",
   "language": "python",
   "name": "python3"
  },
  "language_info": {
   "codemirror_mode": {
    "name": "ipython",
    "version": 3
   },
   "file_extension": ".py",
   "mimetype": "text/x-python",
   "name": "python",
   "nbconvert_exporter": "python",
   "pygments_lexer": "ipython3",
   "version": "3.7.6"
  }
 },
 "nbformat": 4,
 "nbformat_minor": 4
}
